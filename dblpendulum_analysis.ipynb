{
 "cells": [
  {
   "cell_type": "markdown",
   "id": "3e910c82-11b2-4c87-9831-3e24f6ccdb39",
   "metadata": {},
   "source": [
    "### Extract the Lyapunov exponent from two data runs from two identical double pendula set into oscillation. Data consists of the angles made by each member of a double pendlum with respect to the vertical reference line passing through the pivots measured at regular time intervals. Use only the data collected within the first 2 seconds of the oscillation. The distance in the phase space is calculated. The chi-square is calculated between the measured data and an exponential fit parametrized by the Lyapunov exponent. Number of data points used in the chi-square determination and the Lyapunov exponent corresponding to minimum chi-square are reported.<br>\n",
    "### A sample data set is given as mentioned in Shinbrot-Yorke's paper. The data used here are from two separate runs for a single double pendulum where they measure angles $\\theta_{1}$, $\\theta_{2}$ ($=\\theta_{2a}$), $\\phi_{1}$, and $\\phi_{2}$ ($=\\phi_{2a}$). When analyzing this sample data, set Protractor = 2. "
   ]
  },
  {
   "cell_type": "code",
   "execution_count": 17,
   "id": "930f846c-10dd-443d-b885-94ffb7221041",
   "metadata": {},
   "outputs": [
    {
     "name": "stdout",
     "output_type": "stream",
     "text": [
      "       t  theta_1  theta_2a  phi_1  phi_2a\n",
      "0   0.04    141.7     169.8  141.1   169.3\n",
      "1   0.08    136.9     179.6  137.0   179.1\n",
      "2   0.12    127.8     197.5  129.4   182.6\n",
      "3   0.16    114.8     202.2  117.4   190.3\n",
      "4   0.20     98.7     205.9  100.8   204.0\n",
      "5   0.24     78.9     205.0   97.5   205.6\n",
      "6   0.28     50.6     180.5   55.1   186.3\n",
      "7   0.32     15.7     127.1   22.7   140.2\n",
      "8   0.36     -2.3      47.2   -1.8    66.2\n",
      "9   0.40     -2.3     -57.2   -1.8   -38.0\n",
      "10  0.44    -22.0    -135.1  -18.0  -120.8\n",
      "11  0.48    -52.8    -189.8  -48.1  -182.0\n",
      "12  0.52    -83.1    -220.0  -78.7  -216.1\n",
      "13  0.56   -106.6    -231.2 -103.3  -233.2\n",
      "14  0.60   -121.0    -233.0 -120.0  -235.4\n",
      "data array [[ 4.000e-02  1.417e+02  1.698e+02  1.411e+02  1.693e+02]\n",
      " [ 8.000e-02  1.369e+02  1.796e+02  1.370e+02  1.791e+02]\n",
      " [ 1.200e-01  1.278e+02  1.975e+02  1.294e+02  1.826e+02]\n",
      " [ 1.600e-01  1.148e+02  2.022e+02  1.174e+02  1.903e+02]\n",
      " [ 2.000e-01  9.870e+01  2.059e+02  1.008e+02  2.040e+02]\n",
      " [ 2.400e-01  7.890e+01  2.050e+02  9.750e+01  2.056e+02]\n",
      " [ 2.800e-01  5.060e+01  1.805e+02  5.510e+01  1.863e+02]\n",
      " [ 3.200e-01  1.570e+01  1.271e+02  2.270e+01  1.402e+02]\n",
      " [ 3.600e-01 -2.300e+00  4.720e+01 -1.800e+00  6.620e+01]\n",
      " [ 4.000e-01 -2.300e+00 -5.720e+01 -1.800e+00 -3.800e+01]\n",
      " [ 4.400e-01 -2.200e+01 -1.351e+02 -1.800e+01 -1.208e+02]\n",
      " [ 4.800e-01 -5.280e+01 -1.898e+02 -4.810e+01 -1.820e+02]\n",
      " [ 5.200e-01 -8.310e+01 -2.200e+02 -7.870e+01 -2.161e+02]\n",
      " [ 5.600e-01 -1.066e+02 -2.312e+02 -1.033e+02 -2.332e+02]\n",
      " [ 6.000e-01 -1.210e+02 -2.330e+02 -1.200e+02 -2.354e+02]]\n"
     ]
    }
   ],
   "source": [
    "import numpy as np\n",
    "import pandas as pd\n",
    "import scipy.optimize as opt\n",
    "from matplotlib import pyplot as plt\n",
    "columns = [\"t\", \"theta_1\", \"theta_2a\", \"phi_1\", \"phi_2a\"]\n",
    "angle_in = pd.read_excel('dbl_pend.xlsx', usecols=columns)# read data as a table. This data set is from Shinbrot and Yorke paper\n",
    "data_arr = angle_in.to_numpy()#convert tabulated angle data into arrays\n",
    "print(angle_in)#print collected data as a table with headers\n",
    "print(\"data array\", data_arr)#print collected data in an array format\n",
    "N = len(angle_in[\"t\"])#number of time intervals over wchih measurement is done, each spaced deltat apart\n",
    "#print(\"N\",N)\n",
    "angv = np.zeros([N,5])# two dimensional array for angular velocity\n",
    "s = np.zeros([N-1])#one dimensional array for measured distance in phase space\n",
    "s_model = np.zeros([N-1])#one dimensional array for distance predicted by model"
   ]
  },
  {
   "cell_type": "markdown",
   "id": "5dc38051-b448-4b9e-8b03-e463e5e80525",
   "metadata": {},
   "source": [
    "#### <span style = \"color:red\"> Setup the protractor to measure the angles as described below: </span> <br>\n",
    "\n",
    "$\\theta_{1}$: (theta_1) - Angle made by the top member of double pendulum 1 with respect to the vertical passing through the fixed top pivot point. <br>\n",
    "$\\theta_{2a}$: Angle made by the bottom member of double pendulum 1 with respect to the base reference line - the line passing through the center of mass of the top member and the fixed top pivot point (theta_2a). <br>\n",
    "$\\phi_{1}$: Angle made by the top member of double pendulum 2 with respect to the vertical passing through the fixed top pivot point (phi_1). <br>\n",
    "$\\phi_{2a}$: Angle made by the bottom member of double pendulum 2 with respect to the base reference line - the line passing through the center of mass of the top member and the fixed top pivot point (phi_2a). <br>\n",
    "\n",
    "Note: <br>\n",
    "$\\theta_{1}$ and $\\phi_{1}$ are positive when top member is to the right of a vertical reference line passing through its fixed pivot and negative when to the left. <br>\n",
    "$\\theta_{2a}$ and $\\phi_{2a}$ are positive when the bottom member is to left of the base reference line and negative when the bottom member is to the right of the base reference line.<br>\n",
    "If you have measured $\\theta_{1}$, $\\theta_{2a}$, $\\phi_{1}$ and $\\phi_{2a}$, then set the <strong> Protractor= 1 </strong><br>\n",
    "The codes below will calculate angles $\\theta_{2}$ and $\\phi_{2}$."
   ]
  },
  {
   "cell_type": "markdown",
   "id": "ab1a5e78-7061-475d-be3e-7331dfec4d32",
   "metadata": {},
   "source": [
    "#### <span style = \"color:red\"> However, to calculate the distance in the phase space, you need the angles below which can be derived using some trigonometry. </span> <br>\n",
    "$\\theta_{1}$: Angle made by the top member of double pendulum 1 with respect to the vertical line passing through the fixed top pivot point (theta_1) <br>\n",
    "$\\theta_{2}$: Angle made by the bottom member of double pendulum 1 with respect to a vertical passing through the oscillating lower pivot point (theta_2). <br>\n",
    "$\\phi_{1}$: Angle made by the top member of double pendulum 2 with respect to the vertical passing through the fixed top pivot point (phi_1). <br>\n",
    "$\\phi_{2}$: Angle made by the bottom member of double pendulum 2 with respect to a vertical passing through the oscillating lower pivot point (phi_2). <br>\n",
    "If you have directly measured $\\theta_{1}$, $\\theta_{2}$, $\\phi_{1}$ and $\\phi_{2}$ then set the <strong>Protactor=2</strong>"
   ]
  },
  {
   "cell_type": "markdown",
   "id": "31e8f5a8-f1f6-405d-a3a6-a28f3eba9dc9",
   "metadata": {},
   "source": [
    "#### <span style = \"color:red\"> Calculate the angles </span>"
   ]
  },
  {
   "cell_type": "code",
   "execution_count": 18,
   "id": "63adeb61-a045-4767-97bb-0d9518b1c1e5",
   "metadata": {
    "tags": []
   },
   "outputs": [],
   "source": [
    "Protractor = 2 #set to 1 if you have measured theta_2a and phi_2a; set to 2 if you have measured theta_2 and phi_2"
   ]
  },
  {
   "cell_type": "code",
   "execution_count": 19,
   "id": "946ad2d5-9257-496a-ae63-52d122a4c877",
   "metadata": {},
   "outputs": [
    {
     "name": "stdout",
     "output_type": "stream",
     "text": [
      "No calculation of theta_2 and phi_2 needed. Already measured. Proceed to calculate distance in phase space.\n"
     ]
    }
   ],
   "source": [
    "if Protractor == 1:\n",
    "        for i in np.arange(N):\n",
    "            if data_arr[i,2] >= 0:\n",
    "                data_arr[i,2] = -(180 - data_arr[i,2])+data_arr[i,1] #theta_2 is defined to be negative when to the left of a vertical line passing through the lower oscillating pivot point.\n",
    "            elif data_arr[i,2] < 0:\n",
    "                data_arr[i,2]= -(-180 - data_arr[i,2])+data_arr[i,1] #theta_2 is defined to be positive when to the right of a vertical line passing through the lower oscillating pivot point.\n",
    "            if data_arr[i,4] >= 0:\n",
    "                data_arr[i,4] = -(180 - data_arr[i,4])+data_arr[i,3] #phi_2 is defined to be negative when to the left of a vertical line passing through the lower oscillating pivot point.\n",
    "            elif data_arr[i,4] < 0:\n",
    "                data_arr[i,4] = -(-180 - data_arr[i,4])+data_arr[i,3] #phi_2 is defined to be positive when to the right of a vertical line passing through the lower oscillating pivot point.\n",
    "elif Protractor == 2:  \n",
    "    print('No calculation of theta_2 and phi_2 needed. Already measured. Proceed to calculate distance in phase space.')\n",
    "   "
   ]
  },
  {
   "cell_type": "markdown",
   "id": "8fea2a72-b8aa-4324-b2ea-7f58a9c9e8ab",
   "metadata": {},
   "source": [
    "#### <span style = \"color:red\">Calculate angular velocities</span>"
   ]
  },
  {
   "cell_type": "code",
   "execution_count": 20,
   "id": "35e82f92-eddc-4165-bb5f-f9dd30ca5c62",
   "metadata": {
    "tags": []
   },
   "outputs": [
    {
     "name": "stdout",
     "output_type": "stream",
     "text": [
      "[[ -120.    245.   -102.5   245.      0. ]\n",
      " [ -227.5   447.5  -190.     87.5     0. ]\n",
      " [ -325.    117.5  -300.    192.5     0. ]\n",
      " [ -402.5    92.5  -415.    342.5     0. ]\n",
      " [ -495.    -22.5   -82.5    40.      0. ]\n",
      " [ -707.5  -612.5 -1060.   -482.5     0. ]\n",
      " [ -872.5 -1335.   -810.  -1152.5     0. ]\n",
      " [ -450.  -1997.5  -612.5 -1850.      0. ]\n",
      " [    0.  -2610.      0.  -2605.      0. ]\n",
      " [ -492.5 -1947.5  -405.  -2070.      0. ]\n",
      " [ -770.  -1367.5  -752.5 -1530.      0. ]\n",
      " [ -757.5  -755.   -765.   -852.5     0. ]\n",
      " [ -587.5  -280.   -615.   -427.5     0. ]\n",
      " [ -360.    -45.   -417.5   -55.      0. ]\n",
      " [    0.      0.      0.      0.      0. ]]\n"
     ]
    }
   ],
   "source": [
    "deltat = data_arr[1,0]-data_arr[0,0]\n",
    "for i in np.arange(N-1):\n",
    "    angv[i,0] = (data_arr[i+1,1]-data_arr[i,1])/(data_arr[i+1,0]-data_arr[i,0])#theta_1_dot\n",
    "    angv[i,1] = (data_arr[i+1,2]-data_arr[i,2])/(data_arr[i+1,0]-data_arr[i,0])#theta_2_dot\n",
    "    angv[i,2] = (data_arr[i+1,3]-data_arr[i,3])/(data_arr[i+1,0]-data_arr[i,0])#phi_1_dot\n",
    "    angv[i,3] = (data_arr[i+1,4]-data_arr[i,4])/(data_arr[i+1,0]-data_arr[i,0])#phi_2_dot\n",
    "print(angv)"
   ]
  },
  {
   "cell_type": "markdown",
   "id": "116c8ce8-c09a-4aa0-8cad-31cccf6be5bf",
   "metadata": {},
   "source": [
    "#### <span style= \"color:red\"> Calculate distance in phase space and run chi square test with an exponential Lyapunov model</span>"
   ]
  },
  {
   "cell_type": "code",
   "execution_count": 21,
   "id": "86309be0-0bd4-45a1-a0a7-8acdae2a9409",
   "metadata": {
    "tags": []
   },
   "outputs": [
    {
     "name": "stdout",
     "output_type": "stream",
     "text": [
      "time 0.04 distance in phase space,  1.0488088481701408\n",
      "time 0.08 distance in phase space,  14.486890625665685\n",
      "time 0.12 distance in phase space,  15.31567824159284\n",
      "time 0.16 distance in phase space,  15.767688479926246\n",
      "time 0.2 distance in phase space,  16.926901665691815\n",
      "time 0.24 distance in phase space,  23.920075250717744\n",
      "time 0.28 distance in phase space,  10.650352106855435\n",
      "time 0.32 distance in phase space,  17.25311566065677\n",
      "time 0.36 distance in phase space,  19.007630046904847\n",
      "time 0.4 distance in phase space,  20.12833823245228\n",
      "time 0.44 distance in phase space,  16.2243643943299\n",
      "time 0.48 distance in phase space,  9.911104882907866\n",
      "time 0.52 distance in phase space,  8.401785524517985\n",
      "time 0.56 distance in phase space,  4.509988913511872\n"
     ]
    },
    {
     "data": {
      "image/png": "[encoded data removed]",
      "text/plain": [
       "<Figure size 640x480 with 1 Axes>"
      ]
     },
     "metadata": {},
     "output_type": "display_data"
    },
    {
     "name": "stdout",
     "output_type": "stream",
     "text": [
      "lambda= -2.1 chisquare= [  0.         172.1782212  194.07117192 206.56330083 240.38110659\n",
      " 498.75134804  87.89936613 250.35978647 307.51004762 347.08750042\n",
      " 219.58003743  74.88522922  51.55016197  11.42226009]\n",
      "lambda= 1.25 chisquare= [2.62256842e-03 1.62472847e+02 1.83217225e+02 1.95056016e+02\n",
      " 2.27111437e+02 4.72198691e+02 8.26785404e+01 2.36571631e+02\n",
      " 2.90763504e+02 3.28301427e+02 2.07393374e+02 7.03712175e+01\n",
      " 4.83214357e+01 1.05302050e+01]\n",
      "lambda= 2 chisquare= [2.69068344e-02 1.42773701e+02 1.61184560e+02 1.71695985e+02\n",
      " 2.00170825e+02 4.18271453e+02 7.20905101e+01 2.08577629e+02\n",
      " 2.56759037e+02 2.90153311e+02 1.82653072e+02 6.12191988e+01\n",
      " 4.17806906e+01 8.73680088e+00]\n",
      "lambda= 3.5 chisquare= [1.87745568e-01 1.04099632e+02 1.17915855e+02 1.25813732e+02\n",
      " 1.47238502e+02 3.12203186e+02 5.13559850e+01 1.53571210e+02\n",
      " 1.89918175e+02 2.15153713e+02 1.34053101e+02 4.33121421e+01\n",
      " 2.90151621e+01 5.31865981e+00]\n"
     ]
    }
   ],
   "source": [
    "for i in np.arange(N-1):\n",
    "        s[i] = np.sqrt(((data_arr[i,1]-data_arr[i,3])**2)+((data_arr[i,2]-data_arr[i,4])**2)+(((angv[i,0]-angv[i,2])*deltat)**2)+(((angv[i,1]-angv[i,3])*deltat)**2))\n",
    "        print(\"time\", data_arr[i,0],\"distance in phase space, \", s[i])\n",
    "        plt.scatter(data_arr[i,0],s[i],color = \"red\")\n",
    "plt.xlabel(\"time(s)\")\n",
    "plt.ylabel(\"distance in phase space (deg)\")\n",
    "plt.show()\n",
    "deltat = 0.04 #time interval between frames\n",
    "s_model = np.zeros([N-1])\n",
    "chisqr = np.zeros([N-1])\n",
    "result = np.zeros([N-1])\n",
    "n = 1\n",
    "def chisquare(k,l):\n",
    "    chisqr = (s - (s[0]*np.exp(k*deltat*l)))**2/(s[0]*np.exp(k*deltat*l))\n",
    "    return chisqr\n",
    "for j in [-2.1, 1.25, 2, 3.5]:\n",
    "    result = 0\n",
    "    if n <= N:\n",
    "        result = 0\n",
    "        for i in range(n):\n",
    "            result = chisquare(i,j)\n",
    "        print ('lambda=', j, 'chisquare=', result)\n",
    "        n = n + 1\n",
    "    elif n > N:\n",
    "        break\n",
    "        \n",
    "    #print (\"number of terms in summation\", i, \"lambda\", j, result_sum)\n",
    "\n"
   ]
  },
  {
   "cell_type": "code",
   "execution_count": 23,
   "id": "fb7c56c4-d64d-4f3f-8561-6e26ada859c7",
   "metadata": {
    "tags": []
   },
   "outputs": [
    {
     "data": {
      "image/png": "[encoded data removed]",
      "text/plain": [
       "<Figure size 640x480 with 1 Axes>"
      ]
     },
     "metadata": {},
     "output_type": "display_data"
    }
   ],
   "source": [
    "for i in np.arange(N-1):\n",
    "        s[i] = np.sqrt(((data_arr[i,1]-data_arr[i,3])**2)+((data_arr[i,2]-data_arr[i,4])**2)+(((angv[i,0]-angv[i,2])*deltat)**2)+(((angv[i,1]-angv[i,3])*deltat)**2))\n",
    "        plt.scatter(data_arr[i,0],np.log(s[i]),color = \"red\")\n",
    "        plt.yscale('log')\n",
    "plt.xlabel(\"time(s)\")\n",
    "plt.ylabel(\"distance in phase space (deg) on a log scale\")\n",
    "plt.show()"
   ]
  },
  {
   "cell_type": "code",
   "execution_count": null,
   "id": "86d3ee78-5bf5-4ecd-aff9-2a8a1ffe74d6",
   "metadata": {},
   "outputs": [],
   "source": []
  }
 ],
 "metadata": {
  "kernelspec": {
   "display_name": "Python 3 (ipykernel)",
   "language": "python",
   "name": "python3"
  },
  "language_info": {
   "codemirror_mode": {
    "name": "ipython",
    "version": 3
   },
   "file_extension": ".py",
   "mimetype": "text/x-python",
   "name": "python",
   "nbconvert_exporter": "python",
   "pygments_lexer": "ipython3",
   "version": "3.10.10"
  }
 },
 "nbformat": 4,
 "nbformat_minor": 5
}
